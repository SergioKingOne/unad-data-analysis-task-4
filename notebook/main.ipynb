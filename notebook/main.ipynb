{
 "cells": [
  {
   "cell_type": "code",
   "execution_count": null,
   "metadata": {},
   "outputs": [],
   "source": [
    "import pandas as pd\n",
    "import numpy as np\n",
    "import matplotlib.pyplot as plt\n",
    "import seaborn as sns\n",
    "\n",
    "# Cargar el dataset\n",
    "df = pd.read_csv('../data/Mall_Customers.csv')\n",
    "\n",
    "# Mostrar las primeras filas del dataset\n",
    "print(\"Primeras filas del dataset:\")\n",
    "print(df.head())\n",
    "\n",
    "# Obtener información general del dataset\n",
    "print(\"\\nInformación general del dataset:\")\n",
    "print(df.info())\n",
    "\n",
    "# Calcular estadísticas descriptivas\n",
    "print(\"\\nEstadísticas descriptivas del dataset:\")\n",
    "print(df.describe())"
   ]
  }
 ],
 "metadata": {
  "language_info": {
   "name": "python"
  }
 },
 "nbformat": 4,
 "nbformat_minor": 2
}
